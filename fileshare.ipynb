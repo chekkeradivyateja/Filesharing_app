{
 "cells": [
  {
   "cell_type": "code",
   "execution_count": 1,
   "id": "0e557a96-fe6f-46cf-982d-47bd376dec17",
   "metadata": {},
   "outputs": [
    {
     "ename": "OSError",
     "evalue": "[WinError 10048] Only one usage of each socket address (protocol/network address/port) is normally permitted",
     "output_type": "error",
     "traceback": [
      "\u001b[1;31m---------------------------------------------------------------------------\u001b[0m",
      "\u001b[1;31mOSError\u001b[0m                                   Traceback (most recent call last)",
      "Cell \u001b[1;32mIn[1], line 68\u001b[0m\n\u001b[0;32m     61\u001b[0m webbrowser\u001b[38;5;241m.\u001b[39mopen(\u001b[38;5;124m'\u001b[39m\u001b[38;5;124mmyqr.svg\u001b[39m\u001b[38;5;124m'\u001b[39m)\n\u001b[0;32m     64\u001b[0m \u001b[38;5;66;03m# Creating the HTTP request and serving the\u001b[39;00m\n\u001b[0;32m     65\u001b[0m \u001b[38;5;66;03m# folder in the PORT 8010,and the pyqrcode is generated\u001b[39;00m\n\u001b[0;32m     66\u001b[0m \n\u001b[0;32m     67\u001b[0m \u001b[38;5;66;03m# continuous stream of data between client and server\u001b[39;00m\n\u001b[1;32m---> 68\u001b[0m \u001b[38;5;28;01mwith\u001b[39;00m \u001b[43msocketserver\u001b[49m\u001b[38;5;241;43m.\u001b[39;49m\u001b[43mTCPServer\u001b[49m\u001b[43m(\u001b[49m\u001b[43m(\u001b[49m\u001b[38;5;124;43m\"\u001b[39;49m\u001b[38;5;124;43m\"\u001b[39;49m\u001b[43m,\u001b[49m\u001b[43m \u001b[49m\u001b[43mPORT\u001b[49m\u001b[43m)\u001b[49m\u001b[43m,\u001b[49m\u001b[43m \u001b[49m\u001b[43mHandler\u001b[49m\u001b[43m)\u001b[49m \u001b[38;5;28;01mas\u001b[39;00m httpd:\n\u001b[0;32m     69\u001b[0m \t\u001b[38;5;28mprint\u001b[39m(\u001b[38;5;124m\"\u001b[39m\u001b[38;5;124mserving at port\u001b[39m\u001b[38;5;124m\"\u001b[39m, PORT)\n\u001b[0;32m     70\u001b[0m \t\u001b[38;5;28mprint\u001b[39m(\u001b[38;5;124m\"\u001b[39m\u001b[38;5;124mType this in your Browser\u001b[39m\u001b[38;5;124m\"\u001b[39m, IP)\n",
      "File \u001b[1;32m~\\AppData\\Local\\Programs\\Python\\Python311\\Lib\\socketserver.py:456\u001b[0m, in \u001b[0;36mTCPServer.__init__\u001b[1;34m(self, server_address, RequestHandlerClass, bind_and_activate)\u001b[0m\n\u001b[0;32m    454\u001b[0m \u001b[38;5;28;01mif\u001b[39;00m bind_and_activate:\n\u001b[0;32m    455\u001b[0m     \u001b[38;5;28;01mtry\u001b[39;00m:\n\u001b[1;32m--> 456\u001b[0m         \u001b[38;5;28;43mself\u001b[39;49m\u001b[38;5;241;43m.\u001b[39;49m\u001b[43mserver_bind\u001b[49m\u001b[43m(\u001b[49m\u001b[43m)\u001b[49m\n\u001b[0;32m    457\u001b[0m         \u001b[38;5;28mself\u001b[39m\u001b[38;5;241m.\u001b[39mserver_activate()\n\u001b[0;32m    458\u001b[0m     \u001b[38;5;28;01mexcept\u001b[39;00m:\n",
      "File \u001b[1;32m~\\AppData\\Local\\Programs\\Python\\Python311\\Lib\\socketserver.py:472\u001b[0m, in \u001b[0;36mTCPServer.server_bind\u001b[1;34m(self)\u001b[0m\n\u001b[0;32m    470\u001b[0m \u001b[38;5;28;01mif\u001b[39;00m \u001b[38;5;28mself\u001b[39m\u001b[38;5;241m.\u001b[39mallow_reuse_port \u001b[38;5;129;01mand\u001b[39;00m \u001b[38;5;28mhasattr\u001b[39m(socket, \u001b[38;5;124m\"\u001b[39m\u001b[38;5;124mSO_REUSEPORT\u001b[39m\u001b[38;5;124m\"\u001b[39m):\n\u001b[0;32m    471\u001b[0m     \u001b[38;5;28mself\u001b[39m\u001b[38;5;241m.\u001b[39msocket\u001b[38;5;241m.\u001b[39msetsockopt(socket\u001b[38;5;241m.\u001b[39mSOL_SOCKET, socket\u001b[38;5;241m.\u001b[39mSO_REUSEPORT, \u001b[38;5;241m1\u001b[39m)\n\u001b[1;32m--> 472\u001b[0m \u001b[38;5;28;43mself\u001b[39;49m\u001b[38;5;241;43m.\u001b[39;49m\u001b[43msocket\u001b[49m\u001b[38;5;241;43m.\u001b[39;49m\u001b[43mbind\u001b[49m\u001b[43m(\u001b[49m\u001b[38;5;28;43mself\u001b[39;49m\u001b[38;5;241;43m.\u001b[39;49m\u001b[43mserver_address\u001b[49m\u001b[43m)\u001b[49m\n\u001b[0;32m    473\u001b[0m \u001b[38;5;28mself\u001b[39m\u001b[38;5;241m.\u001b[39mserver_address \u001b[38;5;241m=\u001b[39m \u001b[38;5;28mself\u001b[39m\u001b[38;5;241m.\u001b[39msocket\u001b[38;5;241m.\u001b[39mgetsockname()\n",
      "\u001b[1;31mOSError\u001b[0m: [WinError 10048] Only one usage of each socket address (protocol/network address/port) is normally permitted"
     ]
    }
   ],
   "source": [
    "# import necessary modules\n",
    "\n",
    "# for implementing the HTTP Web servers\n",
    "import http.server\n",
    "\n",
    "# provides access to the BSD socket interface\n",
    "import socket\n",
    "\n",
    "# a framework for network servers\n",
    "import socketserver\n",
    "\n",
    "# to display a Web-based documents to users\n",
    "import webbrowser\n",
    "\n",
    "# to generate qrcode\n",
    "import pyqrcode\n",
    "from pyqrcode import QRCode\n",
    "\n",
    "# convert into png format\n",
    "import png\n",
    "\n",
    "# to access operating system control\n",
    "import os\n",
    "\n",
    "\n",
    "# assigning the appropriate port value\n",
    "PORT = 8010\n",
    "# this finds the name of the computer user\n",
    "os.environ['USERPROFILE']\n",
    "\n",
    "\n",
    "# changing the directory to access the files desktop\n",
    "# with the help of os module\n",
    "desktop = os.path.join(os.path.join(os.environ['USERPROFILE']),\n",
    "\t\t\t\t\t'OneDrive')\n",
    "os.chdir(desktop)\n",
    "\n",
    "\n",
    "# creating a http request\n",
    "Handler = http.server.SimpleHTTPRequestHandler\n",
    "# returns, host name of the system under\n",
    "# which Python interpreter is executed\n",
    "hostname = socket.gethostname()\n",
    "\n",
    "\n",
    "# finding the IP address of the PC\n",
    "s = socket.socket(socket.AF_INET, socket.SOCK_DGRAM)\n",
    "s.connect((\"8.8.8.8\", 80))\n",
    "IP = \"http://\" + s.getsockname()[0] + \":\" + str(PORT)\n",
    "link = IP\n",
    "\n",
    "\n",
    "# converting the IP address into the form of a QRcode\n",
    "# with the help of pyqrcode module\n",
    "\n",
    "# converts the IP address into a Qrcode\n",
    "url = pyqrcode.create(link)\n",
    "# saves the Qrcode inform of svg\n",
    "url.svg(\"myqr.svg\", scale=8)\n",
    "# opens the Qrcode image in the web browser\n",
    "webbrowser.open('myqr.svg')\n",
    "\n",
    "\n",
    "# Creating the HTTP request and serving the\n",
    "# folder in the PORT 8010,and the pyqrcode is generated\n",
    "\n",
    "# continuous stream of data between client and server\n",
    "with socketserver.TCPServer((\"\", PORT), Handler) as httpd:\n",
    "\tprint(\"serving at port\", PORT)\n",
    "\tprint(\"Type this in your Browser\", IP)\n",
    "\tprint(\"or Use the QRCode\")\n",
    "\thttpd.serve_forever()\n"
   ]
  },
  {
   "cell_type": "code",
   "execution_count": null,
   "id": "42a70001-9666-4412-84c0-eeee587be5d3",
   "metadata": {},
   "outputs": [],
   "source": []
  }
 ],
 "metadata": {
  "kernelspec": {
   "display_name": "Python 3 (ipykernel)",
   "language": "python",
   "name": "python3"
  },
  "language_info": {
   "codemirror_mode": {
    "name": "ipython",
    "version": 3
   },
   "file_extension": ".py",
   "mimetype": "text/x-python",
   "name": "python",
   "nbconvert_exporter": "python",
   "pygments_lexer": "ipython3",
   "version": "3.11.5"
  }
 },
 "nbformat": 4,
 "nbformat_minor": 5
}
